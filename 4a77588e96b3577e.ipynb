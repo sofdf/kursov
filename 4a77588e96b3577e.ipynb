{
 "cells": [
  {
   "cell_type": "markdown",
   "metadata": {
    "id": "GdQ34me8Hp5p"
   },
   "source": []
  },
  {
   "cell_type": "code",
   "execution_count": 10,
   "metadata": {
    "ExecuteTime": {
     "end_time": "2024-05-20T15:49:43.108282200Z",
     "start_time": "2024-05-20T15:49:43.105536400Z"
    },
    "collapsed": false
   },
   "outputs": [
    {
     "name": "stdout",
     "output_type": "stream",
     "text": [
      "Общая выручка магазина: 786830 \n",
      "\n",
      "\n",
      "Максимальное количество продаж: 180 \n",
      "\n",
      "Наименования товаров с максимальным количеством продаж:\n",
      "Молоко ультрапастеризованное\n",
      "Молоко безлактозное\n",
      "Молоко детское с 8 месяцев\n",
      "Кефир обезжиренный\n",
      "Ряженка термостатная\n",
      "Сливки 10%\n",
      "Сметана 15%\n",
      "Творог 9% жирности\n",
      "Яйцо диетическое\n",
      "Крупа пшено\n",
      "Рис круглозерный\n",
      "Бурый рис\n",
      "Макароны вермишель\n",
      "Сахар демерара коричневый\n",
      "Лапша гречневая\n",
      "Горох желтый колотый\n",
      "Хлопья овсяные Геркулес\n",
      "Кукурузные хлопья с сахаром\n",
      "Соль поваренная Экстра\n",
      "Чай черный индийский\n",
      "Чай зеленый \n",
      "Кофе растворимый\n",
      "Кофе в зернах \n",
      "Сервелат варенокопченый\n",
      "Сосиски молочные\n",
      "Сосиски куриные\n",
      "Колбаса сырокопченая салями\n",
      "Ветчина в оболочке\n",
      "Паштет из куриной печени\n",
      "\n",
      "\n",
      "Товар(ы) принесший(-е) наибольшую выручку:\n",
      " Кукурузные хлопья с сахаром - 66600\n"
     ]
    }
   ],
   "source": [
    "import csv\n",
    "\n",
    "total_revenue = 0\n",
    "\n",
    "with open('C:\\\\Users\\\\s_ale\\\\Desktop\\\\продажи.csv', 'r', encoding=\"utf-8\") as file:\n",
    "    reader = csv.reader(file, delimiter=';')\n",
    "    next(reader)\n",
    "    for row in reader:\n",
    "        if len(row) <= 7:\n",
    "            total_revenue += int(row[6])\n",
    "\n",
    "print(\"Общая выручка магазина:\", total_revenue, \"\\n\\n\")\n",
    "\n",
    "with open('C:\\\\Users\\\\s_ale\\\\Desktop\\\\продажи.csv', 'r', encoding=\"utf-8\") as file:\n",
    "    reader = csv.reader(file, delimiter=';')\n",
    "    next(reader)\n",
    "    hash_table = {}\n",
    "    for row in reader:\n",
    "        product_name = row[2]  # Наименование товара в третьем столбце\n",
    "        sales_count = int(row[4])  # Количество продаж в пятом столбце\n",
    "\n",
    "        # Добавление товара в хеш-таблицу\n",
    "        if sales_count in hash_table:\n",
    "            hash_table[sales_count].append(product_name)\n",
    "        else:\n",
    "            hash_table[sales_count] = [product_name]\n",
    "\n",
    "    max_sales = max(hash_table.keys())\n",
    "    products_with_max_sales = hash_table[max_sales]\n",
    "\n",
    "    print(\"Максимальное количество продаж:\", max_sales, \"\\n\")\n",
    "    print(\"Наименования товаров с максимальным количеством продаж:\")\n",
    "    for product in products_with_max_sales:\n",
    "        print(product)\n",
    "    print(\"\\n\")\n",
    "\n",
    "with open('C:\\\\Users\\\\s_ale\\\\Desktop\\\\продажи.csv', 'r', encoding=\"utf-8\") as file:\n",
    "    reader = csv.reader(file, delimiter=';')\n",
    "    next(reader)\n",
    "    stack_total_cost = []                                       #создание стека с общей стоимостью товаров\n",
    "    stack_name_product = []                                     #создание стека с названиями товаров\n",
    "    for row in reader:\n",
    "        if len(row) <= 7:\n",
    "            value_cost = int(row[6])\n",
    "            stack_total_cost.append(value_cost)                 \n",
    "            value_name = str(row[2])\n",
    "            stack_name_product.append(value_name)               #заполнили оба стека\n",
    "\n",
    "    max_total_cost = stack_total_cost[0]\n",
    "    id = 0\n",
    "      \n",
    "\n",
    "    for i in range(len(stack_total_cost)):\n",
    "        if stack_total_cost[i] > max_total_cost:\n",
    "            max_total_cost = stack_total_cost[i]\n",
    "            id = i                                              #нашли товар принесший наибольшую выручку, а также его id в обоих стеках\n",
    "\n",
    "print(\"Товар(ы) принесший(-е) наибольшую выручку:\\n\", stack_name_product[id],\"-\", stack_total_cost[id])"
   ]
  },
  {
   "cell_type": "code",
   "execution_count": null,
   "metadata": {
    "ExecuteTime": {
     "end_time": "2024-05-20T15:49:43.109288Z",
     "start_time": "2024-05-20T15:49:43.107776100Z"
    },
    "collapsed": false
   },
   "outputs": [],
   "source": []
  }
 ],
 "metadata": {
  "colab": {
   "authorship_tag": "ABX9TyPnFe3Ipv24uXYYGgK3SvwV",
   "provenance": []
  },
  "kernelspec": {
   "display_name": "Python 3",
   "language": "python",
   "name": "python3"
  },
  "language_info": {
   "codemirror_mode": {
    "name": "ipython",
    "version": 3
   },
   "file_extension": ".py",
   "mimetype": "text/x-python",
   "name": "python",
   "nbconvert_exporter": "python",
   "pygments_lexer": "ipython3",
   "version": "3.12.0"
  },
  "vscode": {
   "interpreter": {
    "hash": "aece7425e3ccd447a3ad3a7aed14f85fe42f2b42b542043d74f1468f13b33598"
   }
  }
 },
 "nbformat": 4,
 "nbformat_minor": 0
}
